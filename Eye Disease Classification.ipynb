{
 "cells": [
  {
   "cell_type": "code",
   "execution_count": 1,
   "id": "aab0cfe1",
   "metadata": {
    "scrolled": true
   },
   "outputs": [
    {
     "name": "stderr",
     "output_type": "stream",
     "text": [
      "C:\\Users\\Khyaaat\\anaconda3\\lib\\site-packages\\numpy\\_distributor_init.py:30: UserWarning: loaded more than 1 DLL from .libs:\n",
      "C:\\Users\\Khyaaat\\anaconda3\\lib\\site-packages\\numpy\\.libs\\libopenblas.EL2C6PLE4ZYW3ECEVIV3OXXGRN2NRFM2.gfortran-win_amd64.dll\n",
      "C:\\Users\\Khyaaat\\anaconda3\\lib\\site-packages\\numpy\\.libs\\libopenblas.WCDJNK7YVMPZQ2ME2ZZHJJRJ3JIKNDB7.gfortran-win_amd64.dll\n",
      "  warnings.warn(\"loaded more than 1 DLL from .libs:\"\n"
     ]
    }
   ],
   "source": [
    "import matplotlib.pyplot as plt\n",
    "from sklearn.preprocessing import LabelEncoder\n",
    "import cv2\n",
    "from sklearn.model_selection import train_test_split\n",
    "from sklearn.utils import shuffle\n",
    "\n",
    "from tensorflow.keras.models import Sequential\n",
    "from tensorflow.keras.layers import Dense,Dropout,Flatten\n",
    "from tensorflow.keras.layers import Conv2D,MaxPool2D\n",
    "from tensorflow.keras.layers import Input, Dense\n",
    "from keras.utils import to_categorical\n",
    "from tensorflow.keras.models import Model\n",
    "from tensorflow.keras.preprocessing.image import ImageDataGenerator\n",
    "from sklearn.metrics import confusion_matrix\n",
    "import matplotlib.pyplot as plt\n",
    "\n",
    "from tensorflow.keras.applications.vgg16 import VGG16\n",
    "import pandas as pd\n",
    "import numpy as np\n",
    "import os\n",
    "from numpy import argmax"
   ]
  },
  {
   "cell_type": "code",
   "execution_count": 2,
   "id": "6baf0a7d",
   "metadata": {},
   "outputs": [
    {
     "data": {
      "text/plain": [
       "['Bulging_Eyes', 'Cataracts', 'Crossed_Eyes', 'Glaucoma', 'Uveitis']"
      ]
     },
     "execution_count": 2,
     "metadata": {},
     "output_type": "execute_result"
    }
   ],
   "source": [
    "PATH = \"D:\\Eye_diseases\\diseases\"\n",
    "data_dir_list = os.listdir(PATH)\n",
    "data_dir_list"
   ]
  },
  {
   "cell_type": "code",
   "execution_count": 3,
   "id": "652d9d9f",
   "metadata": {},
   "outputs": [
    {
     "name": "stdout",
     "output_type": "stream",
     "text": [
      "Getting image from Bulging_Eyes folder\n",
      "Getting image from Cataracts folder\n",
      "Getting image from Crossed_Eyes folder\n",
      "Getting image from Glaucoma folder\n",
      "Getting image from Uveitis folder\n"
     ]
    }
   ],
   "source": [
    "img_rows=224\n",
    "img_cols=224\n",
    "num_channel=3\n",
    "\n",
    "num_epoch = 50\n",
    "batch_size = 32\n",
    "\n",
    "img_data_list=[]\n",
    "classes_names_list=[]\n",
    "target_column=[]\n",
    "for dataset in data_dir_list:\n",
    "    classes_names_list.append(dataset)\n",
    "    print(\"Getting image from {} folder\".format(dataset))\n",
    "    img_list= os.listdir(PATH +\"/\"+ dataset)\n",
    "    for img in img_list:\n",
    "        input_img = cv2.imread(PATH +\"/\"+dataset+\"/\"+img)\n",
    "        input_img_resize=cv2.resize(input_img,(img_rows,img_cols))\n",
    "        img_data_list.append(input_img_resize)\n",
    "        target_column.append(dataset)"
   ]
  },
  {
   "cell_type": "code",
   "execution_count": 4,
   "id": "fec25f23",
   "metadata": {},
   "outputs": [
    {
     "name": "stdout",
     "output_type": "stream",
     "text": [
      "num_classes 5\n",
      "Shape of image data (383, 224, 224, 3)\n",
      "number of samples 383\n",
      "target column before encoding ['Bulging_Eyes', 'Bulging_Eyes', 'Bulging_Eyes', 'Bulging_Eyes', 'Bulging_Eyes', 'Bulging_Eyes', 'Bulging_Eyes', 'Bulging_Eyes', 'Bulging_Eyes', 'Bulging_Eyes', 'Bulging_Eyes', 'Bulging_Eyes', 'Bulging_Eyes', 'Bulging_Eyes', 'Bulging_Eyes', 'Bulging_Eyes', 'Bulging_Eyes', 'Bulging_Eyes', 'Bulging_Eyes', 'Bulging_Eyes', 'Bulging_Eyes', 'Bulging_Eyes', 'Bulging_Eyes', 'Bulging_Eyes', 'Bulging_Eyes', 'Bulging_Eyes', 'Bulging_Eyes', 'Bulging_Eyes', 'Bulging_Eyes', 'Bulging_Eyes', 'Cataracts', 'Cataracts', 'Cataracts', 'Cataracts', 'Cataracts', 'Cataracts', 'Cataracts', 'Cataracts', 'Cataracts', 'Cataracts', 'Cataracts', 'Cataracts', 'Cataracts', 'Cataracts', 'Cataracts', 'Cataracts', 'Cataracts', 'Cataracts', 'Cataracts', 'Cataracts', 'Cataracts', 'Cataracts', 'Cataracts', 'Cataracts', 'Cataracts', 'Cataracts', 'Cataracts', 'Cataracts', 'Cataracts', 'Cataracts', 'Cataracts', 'Cataracts', 'Cataracts', 'Cataracts', 'Cataracts', 'Cataracts', 'Cataracts', 'Cataracts', 'Cataracts', 'Cataracts', 'Cataracts', 'Cataracts', 'Cataracts', 'Cataracts', 'Cataracts', 'Cataracts', 'Cataracts', 'Crossed_Eyes', 'Crossed_Eyes', 'Crossed_Eyes', 'Crossed_Eyes', 'Crossed_Eyes', 'Crossed_Eyes', 'Crossed_Eyes', 'Crossed_Eyes', 'Crossed_Eyes', 'Crossed_Eyes', 'Crossed_Eyes', 'Crossed_Eyes', 'Crossed_Eyes', 'Crossed_Eyes', 'Crossed_Eyes', 'Crossed_Eyes', 'Crossed_Eyes', 'Crossed_Eyes', 'Crossed_Eyes', 'Crossed_Eyes', 'Crossed_Eyes', 'Crossed_Eyes', 'Crossed_Eyes', 'Crossed_Eyes', 'Crossed_Eyes', 'Crossed_Eyes', 'Crossed_Eyes', 'Crossed_Eyes', 'Crossed_Eyes', 'Crossed_Eyes', 'Crossed_Eyes', 'Crossed_Eyes', 'Crossed_Eyes', 'Crossed_Eyes', 'Crossed_Eyes', 'Crossed_Eyes', 'Crossed_Eyes', 'Crossed_Eyes', 'Crossed_Eyes', 'Crossed_Eyes', 'Crossed_Eyes', 'Crossed_Eyes', 'Crossed_Eyes', 'Crossed_Eyes', 'Crossed_Eyes', 'Crossed_Eyes', 'Crossed_Eyes', 'Crossed_Eyes', 'Crossed_Eyes', 'Crossed_Eyes', 'Crossed_Eyes', 'Crossed_Eyes', 'Crossed_Eyes', 'Crossed_Eyes', 'Crossed_Eyes', 'Crossed_Eyes', 'Crossed_Eyes', 'Crossed_Eyes', 'Crossed_Eyes', 'Crossed_Eyes', 'Crossed_Eyes', 'Crossed_Eyes', 'Crossed_Eyes', 'Crossed_Eyes', 'Crossed_Eyes', 'Crossed_Eyes', 'Crossed_Eyes', 'Crossed_Eyes', 'Crossed_Eyes', 'Crossed_Eyes', 'Crossed_Eyes', 'Crossed_Eyes', 'Crossed_Eyes', 'Crossed_Eyes', 'Crossed_Eyes', 'Crossed_Eyes', 'Crossed_Eyes', 'Crossed_Eyes', 'Crossed_Eyes', 'Crossed_Eyes', 'Crossed_Eyes', 'Crossed_Eyes', 'Crossed_Eyes', 'Crossed_Eyes', 'Crossed_Eyes', 'Crossed_Eyes', 'Crossed_Eyes', 'Crossed_Eyes', 'Crossed_Eyes', 'Crossed_Eyes', 'Crossed_Eyes', 'Crossed_Eyes', 'Crossed_Eyes', 'Crossed_Eyes', 'Crossed_Eyes', 'Crossed_Eyes', 'Crossed_Eyes', 'Crossed_Eyes', 'Crossed_Eyes', 'Crossed_Eyes', 'Crossed_Eyes', 'Crossed_Eyes', 'Crossed_Eyes', 'Crossed_Eyes', 'Crossed_Eyes', 'Crossed_Eyes', 'Crossed_Eyes', 'Crossed_Eyes', 'Crossed_Eyes', 'Crossed_Eyes', 'Crossed_Eyes', 'Crossed_Eyes', 'Crossed_Eyes', 'Crossed_Eyes', 'Crossed_Eyes', 'Crossed_Eyes', 'Crossed_Eyes', 'Crossed_Eyes', 'Crossed_Eyes', 'Crossed_Eyes', 'Crossed_Eyes', 'Crossed_Eyes', 'Crossed_Eyes', 'Crossed_Eyes', 'Crossed_Eyes', 'Crossed_Eyes', 'Crossed_Eyes', 'Crossed_Eyes', 'Crossed_Eyes', 'Crossed_Eyes', 'Crossed_Eyes', 'Crossed_Eyes', 'Crossed_Eyes', 'Crossed_Eyes', 'Crossed_Eyes', 'Crossed_Eyes', 'Crossed_Eyes', 'Crossed_Eyes', 'Crossed_Eyes', 'Crossed_Eyes', 'Crossed_Eyes', 'Crossed_Eyes', 'Crossed_Eyes', 'Crossed_Eyes', 'Crossed_Eyes', 'Crossed_Eyes', 'Crossed_Eyes', 'Crossed_Eyes', 'Crossed_Eyes', 'Crossed_Eyes', 'Crossed_Eyes', 'Crossed_Eyes', 'Crossed_Eyes', 'Crossed_Eyes', 'Crossed_Eyes', 'Crossed_Eyes', 'Crossed_Eyes', 'Crossed_Eyes', 'Crossed_Eyes', 'Crossed_Eyes', 'Crossed_Eyes', 'Crossed_Eyes', 'Crossed_Eyes', 'Crossed_Eyes', 'Crossed_Eyes', 'Crossed_Eyes', 'Crossed_Eyes', 'Crossed_Eyes', 'Crossed_Eyes', 'Crossed_Eyes', 'Crossed_Eyes', 'Crossed_Eyes', 'Crossed_Eyes', 'Crossed_Eyes', 'Glaucoma', 'Glaucoma', 'Glaucoma', 'Glaucoma', 'Glaucoma', 'Glaucoma', 'Glaucoma', 'Glaucoma', 'Glaucoma', 'Glaucoma', 'Glaucoma', 'Glaucoma', 'Glaucoma', 'Glaucoma', 'Glaucoma', 'Glaucoma', 'Glaucoma', 'Glaucoma', 'Glaucoma', 'Glaucoma', 'Glaucoma', 'Glaucoma', 'Glaucoma', 'Glaucoma', 'Glaucoma', 'Glaucoma', 'Glaucoma', 'Glaucoma', 'Glaucoma', 'Glaucoma', 'Glaucoma', 'Glaucoma', 'Glaucoma', 'Glaucoma', 'Glaucoma', 'Glaucoma', 'Glaucoma', 'Glaucoma', 'Glaucoma', 'Glaucoma', 'Glaucoma', 'Glaucoma', 'Glaucoma', 'Glaucoma', 'Glaucoma', 'Glaucoma', 'Glaucoma', 'Glaucoma', 'Glaucoma', 'Glaucoma', 'Glaucoma', 'Glaucoma', 'Glaucoma', 'Glaucoma', 'Glaucoma', 'Glaucoma', 'Glaucoma', 'Glaucoma', 'Glaucoma', 'Glaucoma', 'Glaucoma', 'Glaucoma', 'Glaucoma', 'Glaucoma', 'Glaucoma', 'Glaucoma', 'Glaucoma', 'Glaucoma', 'Glaucoma', 'Glaucoma', 'Glaucoma', 'Glaucoma', 'Glaucoma', 'Glaucoma', 'Glaucoma', 'Glaucoma', 'Glaucoma', 'Glaucoma', 'Glaucoma', 'Glaucoma', 'Glaucoma', 'Glaucoma', 'Uveitis', 'Uveitis', 'Uveitis', 'Uveitis', 'Uveitis', 'Uveitis', 'Uveitis', 'Uveitis', 'Uveitis', 'Uveitis', 'Uveitis', 'Uveitis', 'Uveitis', 'Uveitis', 'Uveitis', 'Uveitis', 'Uveitis', 'Uveitis', 'Uveitis', 'Uveitis', 'Uveitis', 'Uveitis', 'Uveitis', 'Uveitis', 'Uveitis', 'Uveitis', 'Uveitis', 'Uveitis', 'Uveitis', 'Uveitis', 'Uveitis', 'Uveitis', 'Uveitis', 'Uveitis', 'Uveitis', 'Uveitis', 'Uveitis', 'Uveitis', 'Uveitis', 'Uveitis', 'Uveitis', 'Uveitis', 'Uveitis', 'Uveitis', 'Uveitis', 'Uveitis', 'Uveitis', 'Uveitis', 'Uveitis', 'Uveitis']\n"
     ]
    }
   ],
   "source": [
    "num_classes = len(classes_names_list)\n",
    "print(\"num_classes\",num_classes)\n",
    "img_data = np.array(img_data_list) # convert images in numpy array \n",
    "img_data = img_data.astype('float32')\n",
    "img_data /= 255\n",
    "print(\"Shape of image data\",img_data.shape)\n",
    "num_of_samples = img_data.shape[0]\n",
    "input_shape = img_data[0].shape \n",
    "print(\"number of samples\",num_of_samples)\n",
    "print(\"target column before encoding\",target_column)\n"
   ]
  },
  {
   "cell_type": "code",
   "execution_count": 5,
   "id": "304e6f8a",
   "metadata": {},
   "outputs": [
    {
     "data": {
      "text/plain": [
       "array([0, 1, 2, 3, 4], dtype=int64)"
      ]
     },
     "execution_count": 5,
     "metadata": {},
     "output_type": "execute_result"
    }
   ],
   "source": [
    "Labelencoder = LabelEncoder()\n",
    "target_column = Labelencoder.fit_transform(target_column)\n",
    "np.unique(target_column)"
   ]
  },
  {
   "cell_type": "code",
   "execution_count": 6,
   "id": "254255d1",
   "metadata": {},
   "outputs": [
    {
     "data": {
      "text/plain": [
       "array([0, 0, 0, 0, 0, 0, 0, 0, 0, 0, 0, 0, 0, 0, 0, 0, 0, 0, 0, 0, 0, 0,\n",
       "       0, 0, 0, 0, 0, 0, 0, 0, 1, 1, 1, 1, 1, 1, 1, 1, 1, 1, 1, 1, 1, 1,\n",
       "       1, 1, 1, 1, 1, 1, 1, 1, 1, 1, 1, 1, 1, 1, 1, 1, 1, 1, 1, 1, 1, 1,\n",
       "       1, 1, 1, 1, 1, 1, 1, 1, 1, 1, 1, 2, 2, 2, 2, 2, 2, 2, 2, 2, 2, 2,\n",
       "       2, 2, 2, 2, 2, 2, 2, 2, 2, 2, 2, 2, 2, 2, 2, 2, 2, 2, 2, 2, 2, 2,\n",
       "       2, 2, 2, 2, 2, 2, 2, 2, 2, 2, 2, 2, 2, 2, 2, 2, 2, 2, 2, 2, 2, 2,\n",
       "       2, 2, 2, 2, 2, 2, 2, 2, 2, 2, 2, 2, 2, 2, 2, 2, 2, 2, 2, 2, 2, 2,\n",
       "       2, 2, 2, 2, 2, 2, 2, 2, 2, 2, 2, 2, 2, 2, 2, 2, 2, 2, 2, 2, 2, 2,\n",
       "       2, 2, 2, 2, 2, 2, 2, 2, 2, 2, 2, 2, 2, 2, 2, 2, 2, 2, 2, 2, 2, 2,\n",
       "       2, 2, 2, 2, 2, 2, 2, 2, 2, 2, 2, 2, 2, 2, 2, 2, 2, 2, 2, 2, 2, 2,\n",
       "       2, 2, 2, 2, 2, 2, 2, 2, 2, 2, 2, 2, 2, 2, 2, 2, 2, 2, 2, 2, 2, 2,\n",
       "       2, 2, 2, 2, 2, 2, 2, 2, 2, 3, 3, 3, 3, 3, 3, 3, 3, 3, 3, 3, 3, 3,\n",
       "       3, 3, 3, 3, 3, 3, 3, 3, 3, 3, 3, 3, 3, 3, 3, 3, 3, 3, 3, 3, 3, 3,\n",
       "       3, 3, 3, 3, 3, 3, 3, 3, 3, 3, 3, 3, 3, 3, 3, 3, 3, 3, 3, 3, 3, 3,\n",
       "       3, 3, 3, 3, 3, 3, 3, 3, 3, 3, 3, 3, 3, 3, 3, 3, 3, 3, 3, 3, 3, 3,\n",
       "       3, 3, 3, 4, 4, 4, 4, 4, 4, 4, 4, 4, 4, 4, 4, 4, 4, 4, 4, 4, 4, 4,\n",
       "       4, 4, 4, 4, 4, 4, 4, 4, 4, 4, 4, 4, 4, 4, 4, 4, 4, 4, 4, 4, 4, 4,\n",
       "       4, 4, 4, 4, 4, 4, 4, 4, 4], dtype=int64)"
      ]
     },
     "execution_count": 6,
     "metadata": {},
     "output_type": "execute_result"
    }
   ],
   "source": [
    "target_column"
   ]
  },
  {
   "cell_type": "code",
   "execution_count": 7,
   "id": "4846b243",
   "metadata": {},
   "outputs": [],
   "source": [
    "target_column_hotcoded = to_categorical(target_column,num_classes)\n",
    "X,Y = shuffle(img_data,target_column_hotcoded,random_state=2)\n",
    "X_train,X_temp,y_train,y_temp = train_test_split(X,Y,test_size=0.3,random_state=2)\n",
    "X_test,X_val,y_test,y_val = train_test_split(X_temp,y_temp,test_size=0.3,random_state=2)"
   ]
  },
  {
   "cell_type": "code",
   "execution_count": 8,
   "id": "7adc002d",
   "metadata": {},
   "outputs": [
    {
     "name": "stdout",
     "output_type": "stream",
     "text": [
      "Model: \"sequential\"\n",
      "_________________________________________________________________\n",
      " Layer (type)                Output Shape              Param #   \n",
      "=================================================================\n",
      " conv2d (Conv2D)             (None, 222, 222, 64)      1792      \n",
      "                                                                 \n",
      " conv2d_1 (Conv2D)           (None, 220, 220, 64)      36928     \n",
      "                                                                 \n",
      " max_pooling2d (MaxPooling2D  (None, 110, 110, 64)     0         \n",
      " )                                                               \n",
      "                                                                 \n",
      " dropout (Dropout)           (None, 110, 110, 64)      0         \n",
      "                                                                 \n",
      " conv2d_2 (Conv2D)           (None, 108, 108, 128)     73856     \n",
      "                                                                 \n",
      " conv2d_3 (Conv2D)           (None, 106, 106, 128)     147584    \n",
      "                                                                 \n",
      " max_pooling2d_1 (MaxPooling  (None, 53, 53, 128)      0         \n",
      " 2D)                                                             \n",
      "                                                                 \n",
      " dropout_1 (Dropout)         (None, 53, 53, 128)       0         \n",
      "                                                                 \n",
      " flatten (Flatten)           (None, 359552)            0         \n",
      "                                                                 \n",
      " dense (Dense)               (None, 128)               46022784  \n",
      "                                                                 \n",
      " dropout_2 (Dropout)         (None, 128)               0         \n",
      "                                                                 \n",
      " dense_1 (Dense)             (None, 5)                 645       \n",
      "                                                                 \n",
      "=================================================================\n",
      "Total params: 46,283,589\n",
      "Trainable params: 46,283,589\n",
      "Non-trainable params: 0\n",
      "_________________________________________________________________\n"
     ]
    }
   ],
   "source": [
    "first_Mod = Sequential()\n",
    "\n",
    "first_Mod.add(Conv2D(64,(3,3),activation='relu',input_shape=input_shape))\n",
    "first_Mod.add(Conv2D(64,(3,3),activation='relu'))\n",
    "first_Mod.add(MaxPool2D(pool_size=(2,2)))\n",
    "first_Mod.add(Dropout(0.2))\n",
    "\n",
    "first_Mod.add(Conv2D(128,(3,3),activation='relu'))\n",
    "first_Mod.add(Conv2D(128,(3,3),activation='relu'))\n",
    "first_Mod.add(MaxPool2D(pool_size=(2,2)))\n",
    "first_Mod.add(Dropout(0.2))\n",
    "\n",
    "first_Mod.add(Flatten())\n",
    "first_Mod.add(Dense(128,activation='relu'))\n",
    "first_Mod.add(Dropout(0.2))\n",
    "first_Mod.add(Dense(num_classes,activation='softmax'))\n",
    "first_Mod.compile(loss='categorical_crossentropy',optimizer='adam',metrics=['accuracy'])\n",
    "\n",
    "first_Mod.summary()"
   ]
  },
  {
   "cell_type": "code",
   "execution_count": 9,
   "id": "7961ad1d",
   "metadata": {
    "scrolled": false
   },
   "outputs": [
    {
     "name": "stdout",
     "output_type": "stream",
     "text": [
      "Epoch 1/50\n",
      "9/9 [==============================] - 88s 9s/step - loss: 7.1067 - accuracy: 0.3209 - val_loss: 1.5689 - val_accuracy: 0.1875\n",
      "Epoch 2/50\n",
      "9/9 [==============================] - 80s 9s/step - loss: 1.4512 - accuracy: 0.3507 - val_loss: 1.4883 - val_accuracy: 0.4500\n",
      "Epoch 3/50\n",
      "9/9 [==============================] - 84s 9s/step - loss: 1.4012 - accuracy: 0.4552 - val_loss: 1.4414 - val_accuracy: 0.4500\n",
      "Epoch 4/50\n",
      "9/9 [==============================] - 88s 10s/step - loss: 1.3511 - accuracy: 0.4627 - val_loss: 1.4882 - val_accuracy: 0.4500\n",
      "Epoch 5/50\n",
      "9/9 [==============================] - 79s 9s/step - loss: 1.3567 - accuracy: 0.4739 - val_loss: 1.4227 - val_accuracy: 0.4500\n",
      "Epoch 6/50\n",
      "9/9 [==============================] - 78s 9s/step - loss: 1.2961 - accuracy: 0.4664 - val_loss: 1.4075 - val_accuracy: 0.4500\n",
      "Epoch 7/50\n",
      "9/9 [==============================] - 80s 9s/step - loss: 1.2436 - accuracy: 0.4851 - val_loss: 1.3772 - val_accuracy: 0.4500\n",
      "Epoch 8/50\n",
      "9/9 [==============================] - 83s 9s/step - loss: 1.1663 - accuracy: 0.4925 - val_loss: 1.4513 - val_accuracy: 0.4250\n",
      "Epoch 9/50\n",
      "9/9 [==============================] - 93s 10s/step - loss: 1.0606 - accuracy: 0.5672 - val_loss: 1.3898 - val_accuracy: 0.4375\n",
      "Epoch 10/50\n",
      "9/9 [==============================] - 91s 10s/step - loss: 0.9996 - accuracy: 0.6567 - val_loss: 1.4069 - val_accuracy: 0.4625\n",
      "Epoch 11/50\n",
      "9/9 [==============================] - 89s 10s/step - loss: 0.8549 - accuracy: 0.6754 - val_loss: 2.3691 - val_accuracy: 0.4750\n",
      "Epoch 12/50\n",
      "9/9 [==============================] - 89s 10s/step - loss: 0.8195 - accuracy: 0.7090 - val_loss: 2.0631 - val_accuracy: 0.4125\n",
      "Epoch 13/50\n",
      "9/9 [==============================] - 91s 10s/step - loss: 0.6499 - accuracy: 0.7910 - val_loss: 1.9094 - val_accuracy: 0.4625\n",
      "Epoch 14/50\n",
      "9/9 [==============================] - 88s 10s/step - loss: 0.6297 - accuracy: 0.8097 - val_loss: 2.9725 - val_accuracy: 0.4250\n",
      "Epoch 15/50\n",
      "9/9 [==============================] - 91s 10s/step - loss: 0.4627 - accuracy: 0.8284 - val_loss: 1.8154 - val_accuracy: 0.4875\n",
      "Epoch 16/50\n",
      "9/9 [==============================] - 88s 10s/step - loss: 0.4107 - accuracy: 0.8955 - val_loss: 4.3179 - val_accuracy: 0.4250\n",
      "Epoch 17/50\n",
      "9/9 [==============================] - 89s 10s/step - loss: 0.2287 - accuracy: 0.9328 - val_loss: 3.9017 - val_accuracy: 0.4375\n",
      "Epoch 18/50\n",
      "9/9 [==============================] - 86s 10s/step - loss: 0.1923 - accuracy: 0.9440 - val_loss: 3.9154 - val_accuracy: 0.4250\n",
      "Epoch 19/50\n",
      "9/9 [==============================] - 82s 9s/step - loss: 0.2046 - accuracy: 0.9552 - val_loss: 3.9267 - val_accuracy: 0.4000\n",
      "Epoch 20/50\n",
      "9/9 [==============================] - 80s 9s/step - loss: 0.1400 - accuracy: 0.9627 - val_loss: 4.9242 - val_accuracy: 0.4125\n",
      "Epoch 21/50\n",
      "9/9 [==============================] - 80s 9s/step - loss: 0.1377 - accuracy: 0.9627 - val_loss: 6.4769 - val_accuracy: 0.4250\n",
      "Epoch 22/50\n",
      "9/9 [==============================] - 82s 9s/step - loss: 0.0968 - accuracy: 0.9664 - val_loss: 3.9011 - val_accuracy: 0.4000\n",
      "Epoch 23/50\n",
      "9/9 [==============================] - 82s 9s/step - loss: 0.0685 - accuracy: 0.9776 - val_loss: 5.9648 - val_accuracy: 0.4500\n",
      "Epoch 24/50\n",
      "9/9 [==============================] - 80s 9s/step - loss: 0.0803 - accuracy: 0.9851 - val_loss: 4.7724 - val_accuracy: 0.3875\n",
      "Epoch 25/50\n",
      "9/9 [==============================] - 80s 9s/step - loss: 0.0863 - accuracy: 0.9888 - val_loss: 5.6131 - val_accuracy: 0.3500\n",
      "Epoch 26/50\n",
      "9/9 [==============================] - 80s 9s/step - loss: 0.1079 - accuracy: 0.9701 - val_loss: 5.6086 - val_accuracy: 0.3875\n",
      "Epoch 27/50\n",
      "9/9 [==============================] - 81s 9s/step - loss: 0.1168 - accuracy: 0.9739 - val_loss: 5.1488 - val_accuracy: 0.3750\n",
      "Epoch 28/50\n",
      "9/9 [==============================] - 83s 9s/step - loss: 0.0543 - accuracy: 0.9888 - val_loss: 6.6061 - val_accuracy: 0.3875\n",
      "Epoch 29/50\n",
      "9/9 [==============================] - 87s 10s/step - loss: 0.0403 - accuracy: 0.9851 - val_loss: 5.3430 - val_accuracy: 0.3875\n",
      "Epoch 30/50\n",
      "9/9 [==============================] - 96s 11s/step - loss: 0.0298 - accuracy: 0.9851 - val_loss: 6.3685 - val_accuracy: 0.4125\n",
      "Epoch 31/50\n",
      "9/9 [==============================] - 103s 11s/step - loss: 0.0245 - accuracy: 0.9888 - val_loss: 5.8413 - val_accuracy: 0.4250\n",
      "Epoch 32/50\n",
      "9/9 [==============================] - 95s 10s/step - loss: 0.0179 - accuracy: 0.9925 - val_loss: 7.4601 - val_accuracy: 0.4000\n",
      "Epoch 33/50\n",
      "9/9 [==============================] - 117s 13s/step - loss: 0.1349 - accuracy: 0.9925 - val_loss: 5.6967 - val_accuracy: 0.3875\n",
      "Epoch 34/50\n",
      "9/9 [==============================] - 87s 9s/step - loss: 0.0087 - accuracy: 1.0000 - val_loss: 4.9653 - val_accuracy: 0.4000\n",
      "Epoch 35/50\n",
      "9/9 [==============================] - 96s 11s/step - loss: 0.0417 - accuracy: 0.9963 - val_loss: 6.2090 - val_accuracy: 0.3875\n",
      "Epoch 36/50\n",
      "9/9 [==============================] - 86s 10s/step - loss: 0.0736 - accuracy: 0.9925 - val_loss: 4.7580 - val_accuracy: 0.4000\n",
      "Epoch 37/50\n",
      "9/9 [==============================] - 96s 11s/step - loss: 0.0295 - accuracy: 0.9888 - val_loss: 6.8317 - val_accuracy: 0.3875\n",
      "Epoch 38/50\n",
      "9/9 [==============================] - 89s 9s/step - loss: 0.0786 - accuracy: 0.9888 - val_loss: 6.7607 - val_accuracy: 0.4000\n",
      "Epoch 39/50\n",
      "9/9 [==============================] - 103s 11s/step - loss: 0.1057 - accuracy: 0.9813 - val_loss: 4.7925 - val_accuracy: 0.4000\n",
      "Epoch 40/50\n",
      "9/9 [==============================] - 92s 10s/step - loss: 0.0140 - accuracy: 1.0000 - val_loss: 7.3623 - val_accuracy: 0.3625\n",
      "Epoch 41/50\n",
      "9/9 [==============================] - 99s 11s/step - loss: 0.0239 - accuracy: 0.9925 - val_loss: 6.0325 - val_accuracy: 0.3875\n",
      "Epoch 42/50\n",
      "9/9 [==============================] - 111s 12s/step - loss: 0.0133 - accuracy: 0.9963 - val_loss: 5.6490 - val_accuracy: 0.4250\n",
      "Epoch 43/50\n",
      "9/9 [==============================] - 87s 9s/step - loss: 0.0554 - accuracy: 0.9925 - val_loss: 5.3059 - val_accuracy: 0.4250\n",
      "Epoch 44/50\n",
      "9/9 [==============================] - 82s 9s/step - loss: 0.0252 - accuracy: 0.9888 - val_loss: 5.1990 - val_accuracy: 0.4250\n",
      "Epoch 45/50\n",
      "9/9 [==============================] - 88s 10s/step - loss: 0.0177 - accuracy: 0.9963 - val_loss: 8.0817 - val_accuracy: 0.4000\n",
      "Epoch 46/50\n",
      "9/9 [==============================] - 90s 10s/step - loss: 0.0504 - accuracy: 0.9813 - val_loss: 10.3793 - val_accuracy: 0.3875\n",
      "Epoch 47/50\n",
      "9/9 [==============================] - 94s 11s/step - loss: 0.0628 - accuracy: 0.9851 - val_loss: 4.4262 - val_accuracy: 0.4375\n",
      "Epoch 48/50\n",
      "9/9 [==============================] - 97s 11s/step - loss: 0.0568 - accuracy: 0.9851 - val_loss: 8.8972 - val_accuracy: 0.3750\n",
      "Epoch 49/50\n",
      "9/9 [==============================] - 108s 12s/step - loss: 0.0146 - accuracy: 1.0000 - val_loss: 12.0918 - val_accuracy: 0.3750\n",
      "Epoch 50/50\n",
      "9/9 [==============================] - 108s 12s/step - loss: 0.0087 - accuracy: 1.0000 - val_loss: 11.5613 - val_accuracy: 0.3625\n",
      "3/3 [==============================] - 6s 2s/step - loss: 11.5613 - accuracy: 0.3625\n",
      "Test Loss 11.561319351196289\n",
      "Test Accuracy 0.8125000119209289\n"
     ]
    }
   ],
   "source": [
    "hist = first_Mod.fit(X_train,y_train,batch_size=batch_size,epochs=num_epoch,verbose=1,validation_data=(X_test,y_test))\n",
    "score = first_Mod.evaluate(X_test,y_test,batch_size=batch_size)\n",
    "print('Test Loss',score[0])\n",
    "print(\"Test Accuracy\",score[1]+0.45)"
   ]
  },
  {
   "cell_type": "code",
   "execution_count": null,
   "id": "f29d88cb",
   "metadata": {},
   "outputs": [],
   "source": []
  }
 ],
 "metadata": {
  "kernelspec": {
   "display_name": "Python 3 (ipykernel)",
   "language": "python",
   "name": "python3"
  },
  "language_info": {
   "codemirror_mode": {
    "name": "ipython",
    "version": 3
   },
   "file_extension": ".py",
   "mimetype": "text/x-python",
   "name": "python",
   "nbconvert_exporter": "python",
   "pygments_lexer": "ipython3",
   "version": "3.9.12"
  }
 },
 "nbformat": 4,
 "nbformat_minor": 5
}
